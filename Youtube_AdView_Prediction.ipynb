{
  "cells": [
    {
      "cell_type": "code",
      "execution_count": null,
      "metadata": {
        "id": "rMfDKm2AoD8s"
      },
      "outputs": [],
      "source": [
        "import pandas as pd\n",
        "import numpy as np\n",
        "import matplotlib.pyplot as plt\n",
        "import seaborn as sns\n",
        "from sklearn.model_selection import train_test_split\n",
        "from sklearn.linear_model import LinearRegression\n",
        "from sklearn.svm import SVR\n",
        "from sklearn.tree import DecisionTreeRegressor\n",
        "from sklearn.ensemble import RandomForestRegressor\n",
        "from sklearn.preprocessing import LabelEncoder, MinMaxScaler\n",
        "from tensorflow.keras.models import Sequential\n",
        "from tensorflow.keras.layers import Dense\n",
        "\n",
        "# Load the dataset\n",
        "data_train = pd.read_csv('/train.csv')\n",
        "\n",
        "# Check the shape and datatype\n",
        "data_train.head()\n",
        "\n"
      ]
    },
    {
      "cell_type": "code",
      "execution_count": null,
      "metadata": {
        "id": "MTvUMyCAoD8y"
      },
      "outputs": [],
      "source": [
        "plt.hist(data_train[\"category\"])\n",
        "plt.show()\n",
        "plt.plot(data_train[\"adview\"])\n",
        "plt.show()\n",
        "# Remove videos with adview greater than 2000000 as outlier\n",
        "data_train = data_train[data_train[\"adview\"] <2000000]\n",
        "f, ax = plt.subplots(figsize=(10, 8))\n",
        "corr = data_train.corr()\n",
        "sns.heatmap(corr, mask=np.zeros_like(corr, dtype=np.bool), cmap=sns.diverging_palette(220, 10, as_cmap=True),\n",
        "square=True, ax=ax,annot=True)\n",
        "plt.show()\n"
      ]
    },
    {
      "cell_type": "code",
      "execution_count": null,
      "metadata": {
        "id": "XdrsYdepoD8z"
      },
      "outputs": [],
      "source": [
        "import pandas as pd\n",
        "\n",
        "def checki(x):\n",
        "    y = x[2:]\n",
        "    h = ''\n",
        "    m = ''\n",
        "    s = ''\n",
        "    mm = ''\n",
        "    P = ['H', 'M', 'S']\n",
        "    for i in y:\n",
        "        if i not in P:\n",
        "            mm += i\n",
        "        else:\n",
        "            if i == \"H\":\n",
        "                h = mm\n",
        "                mm = ''\n",
        "            elif i == \"M\":\n",
        "                m = mm\n",
        "                mm = ''\n",
        "            else:\n",
        "                s = mm\n",
        "                mm = ''\n",
        "    if h == '':\n",
        "        h = '00'\n",
        "    if m == '':\n",
        "        m = '00'\n",
        "    if s == '':\n",
        "        s = '00'\n",
        "    bp = h + ':' + m + ':' + s\n",
        "    return bp\n",
        "\n",
        "train = pd.read_csv(\"/train.csv\")\n",
        "mp = pd.read_csv(\"/train.csv\")[\"duration\"]\n",
        "time = mp.apply(checki)\n",
        "\n",
        "def func_sec(time_string):\n",
        "    h, m, s = time_string.split(':')\n",
        "    return int(h) * 3600 + int(m) * 60 + int(s)\n",
        "\n",
        "time1 = time.apply(func_sec)\n",
        "data_train[\"duration\"] = time1\n",
        "data_train.head()\n",
        "\n"
      ]
    },
    {
      "cell_type": "code",
      "execution_count": null,
      "metadata": {
        "id": "8tzclG-JoD8z"
      },
      "outputs": [],
      "source": [
        "\n",
        "\n",
        "data_train=data_train[data_train.views!='F']\n",
        "data_train=data_train[data_train.likes!='F']\n",
        "data_train=data_train[data_train.dislikes!='F']\n",
        "data_train=data_train[data_train.comment!='F']\n",
        "data_train.head()\n",
        "category={'A': 1,'B':2,'C':3,'D':4,'E':5,'F':6,'G':7,'H':8}\n",
        "data_train[\"category\"]=data_train[\"category\"].map(category)\n",
        "data_train.head()\n",
        "\n"
      ]
    },
    {
      "cell_type": "code",
      "source": [
        "data_train[\"views\"] = pd.to_numeric(data_train[\"views\"])\n",
        "data_train[\"comment\"] = pd.to_numeric(data_train[\"comment\"])\n",
        "data_train[\"likes\"] = pd.to_numeric(data_train[\"likes\"])\n",
        "data_train[\"dislikes\"] = pd.to_numeric(data_train[\"dislikes\"])\n",
        "data_train[\"adview\"]=pd.to_numeric(data_train[\"adview\"])\n",
        "column_vidid=data_train['vidid']\n",
        "# Endoding features like Category, Duration, Vidid\n",
        "from sklearn.preprocessing import LabelEncoder\n",
        "data_train['duration']=LabelEncoder().fit_transform(data_train['duration'])\n",
        "data_train['vidid']=LabelEncoder().fit_transform(data_train['vidid'])\n",
        "data_train['published']=LabelEncoder().fit_transform(data_train['published'])\n",
        "data_train.head()"
      ],
      "metadata": {
        "id": "t6rtCmeOzQqB"
      },
      "execution_count": null,
      "outputs": []
    },
    {
      "cell_type": "code",
      "execution_count": null,
      "metadata": {
        "id": "wzJXBkvRoD80"
      },
      "outputs": [],
      "source": [
        "Y_train = pd.DataFrame(data = data_train.iloc[:, 1].values, columns = ['target'])\n",
        "data_train=data_train.drop([\"adview\"],axis=1)\n",
        "data_train=data_train.drop([\"vidid\"],axis=1)\n",
        "data_train.head()\n",
        "from sklearn.model_selection import train_test_split\n",
        "X_train, X_test, y_train, y_test = train_test_split(data_train, Y_train, test_size=0.2, random_state=42)\n",
        "X_train.shape\n",
        "# Normalise Data\n",
        "from sklearn.preprocessing import MinMaxScaler\n",
        "scaler = MinMaxScaler()\n",
        "X_train_scaled=scaler.fit_transform(X_train)\n",
        "X_test_scaled=scaler.fit_transform(X_test)\n",
        "X_train_scaled.mean()"
      ]
    },
    {
      "cell_type": "code",
      "execution_count": null,
      "metadata": {
        "id": "2PwtyKDtoD80"
      },
      "outputs": [],
      "source": [
        "from sklearn import metrics\n",
        "import numpy as np\n",
        "\n",
        "def print_error(X_test, y_test, model_name):\n",
        "    prediction = model_name.predict(X_test)\n",
        "    print('Mean Absolute Error:', metrics.mean_absolute_error(y_test, prediction))\n",
        "    print('Mean Squared Error:', metrics.mean_squared_error(y_test, prediction))\n",
        "    print('Root Mean Squared Error:', np.sqrt(metrics.mean_squared_error(y_test, prediction)))\n",
        "\n",
        "# Linear Regression\n",
        "from sklearn import linear_model\n",
        "linear_regression = linear_model.LinearRegression()\n",
        "linear_regression.fit(X_train, y_train)\n",
        "print_error(X_test, y_test, linear_regression)\n",
        "\n",
        "# Support Vector Regressor\n",
        "from sklearn.svm import SVR\n",
        "supportvector_regressor = SVR()\n",
        "supportvector_regressor.fit(X_train, y_train)\n",
        "print_error(X_test, y_test, supportvector_regressor)\n"
      ]
    },
    {
      "cell_type": "code",
      "execution_count": null,
      "metadata": {
        "id": "7eqX8VXGoD81"
      },
      "outputs": [],
      "source": [
        "from sklearn.tree import DecisionTreeRegressor\n",
        "decision_tree = DecisionTreeRegressor()\n",
        "decision_tree.fit(X_train, y_train)\n",
        "print_error(X_test,y_test, decision_tree)\n",
        "# Random Forest Regressor\n",
        "from sklearn.ensemble import RandomForestRegressor\n",
        "n_estimators = 200\n",
        "max_depth = 25\n",
        "min_samples_split=15\n",
        "min_samples_leaf=2\n",
        "random_forest = RandomForestRegressor(n_estimators = n_estimators, max_depth = max_depth, min_samples_split=min_samples_split)\n",
        "random_forest.fit(X_train,y_train)\n",
        "print_error(X_test,y_test, random_forest)"
      ]
    },
    {
      "cell_type": "code",
      "execution_count": null,
      "metadata": {
        "id": "l6sHy2qkoD82"
      },
      "outputs": [],
      "source": [
        "import keras\n",
        "from keras.layers import Dense\n",
        "ann = keras.models.Sequential([\n",
        "Dense(6, activation=\"relu\",\n",
        "input_shape=X_train.shape[1:]),\n",
        "Dense(6,activation=\"relu\"),\n",
        "Dense(1)\n",
        "])\n",
        "optimizer=keras.optimizers.Adam()\n",
        "loss=keras.losses.mean_squared_error\n",
        "ann.compile(optimizer=optimizer,loss=loss,metrics=[\"mean_squared_error\"])\n",
        "history=ann.fit(X_train,y_train,epochs=100)\n",
        "ann.summary()\n",
        "print_error(X_test,y_test,ann)"
      ]
    },
    {
      "cell_type": "code",
      "execution_count": 32,
      "metadata": {
        "id": "u085hXVCoD82"
      },
      "outputs": [],
      "source": [
        "import joblib\n",
        "joblib.dump(decision_tree, \"decisiontree_youtubeadview.pkl\")\n",
        "# Saving Keras Artificial Neural Network model\n",
        "ann.save(\"ann_youtubeadview.h5\")"
      ]
    },
    {
      "cell_type": "code",
      "source": [
        "# Assuming you have loaded the test data and preprocessed it as done previously\n",
        "\n",
        "# Load the saved model\n",
        "from tensorflow.keras.models import load_model\n",
        "loaded_model = load_model('ann_youtubeadview.h5')\n",
        "\n",
        "# Assuming 'X_test_final' contains the preprocessed test data (same preprocessing as the training data)\n",
        "# Make predictions on the test data using the loaded model\n",
        "test_predictions_final = loaded_model.predict(X_test)\n",
        "\n",
        "# Optionally, you can save the predictions to a CSV file\n",
        "# Create a DataFrame with 'vidid' and 'adview_prediction' columns\n",
        "predictions_df = pd.DataFrame( 'adview_prediction': test_predictions_final.flatten())\n",
        "\n",
        "# Save the predictions to a CSV file\n",
        "predictions_df.to_csv('final_predictions.csv', index=False)\n"
      ],
      "metadata": {
        "colab": {
          "base_uri": "https://localhost:8080/",
          "height": 130
        },
        "id": "GL-KYVlU5qU8",
        "outputId": "2c92addd-7c86-4306-9877-5c61e6310435"
      },
      "execution_count": 35,
      "outputs": [
        {
          "output_type": "error",
          "ename": "SyntaxError",
          "evalue": "ignored",
          "traceback": [
            "\u001b[0;36m  File \u001b[0;32m\"<ipython-input-35-63140634cf75>\"\u001b[0;36m, line \u001b[0;32m13\u001b[0m\n\u001b[0;31m    predictions_df = pd.DataFrame( 'adview_prediction': test_predictions_final.flatten())\u001b[0m\n\u001b[0m                                                      ^\u001b[0m\n\u001b[0;31mSyntaxError\u001b[0m\u001b[0;31m:\u001b[0m invalid syntax\n"
          ]
        }
      ]
    }
  ],
  "metadata": {
    "kernelspec": {
      "display_name": "Python 3",
      "language": "python",
      "name": "python3"
    },
    "language_info": {
      "codemirror_mode": {
        "name": "ipython",
        "version": 3
      },
      "file_extension": ".py",
      "mimetype": "text/x-python",
      "name": "python",
      "nbconvert_exporter": "python",
      "pygments_lexer": "ipython3",
      "version": "3.7.3"
    },
    "colab": {
      "provenance": []
    }
  },
  "nbformat": 4,
  "nbformat_minor": 0
}